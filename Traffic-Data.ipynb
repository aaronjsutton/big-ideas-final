{
 "cells": [
  {
   "cell_type": "markdown",
   "metadata": {},
   "source": [
    "# Datasets\n",
    "- [Pittsburgh Traffic Count](https://data.wprdc.org/dataset/traffic-count-data-city-of-pittsburgh)\n",
    "- [Allegheny Country Crash Data](https://data.wprdc.org/dataset/allegheny-county-crash-data)\n",
    "\n",
    "## Overview\n",
    "\n",
    "Traffic counters are used to determine the speed of each car passing by the counter on the road. This data contains that information for most areas of\n",
    "Pittsburgh.\n",
    "\n",
    "# Metrics\n",
    "\n",
    "One metric I plan to use **percent over the limit**, that is, the % of cars above the speed limit. This will be an important metric determining safety of an area.\n",
    "Another metric can be, **average speed exceeding the limit**,  that is, when people speed, on average how much higher than the normal speed limit do drivers go."
   ]
  },
  {
   "cell_type": "code",
   "execution_count": 23,
   "metadata": {},
   "outputs": [],
   "source": [
    "import os\n",
    "import pandas as pd\n",
    "\n",
    "# All the CSV files live in the data folder.\n",
    "DATA_DIR = \"data/\"\n",
    "\n",
    "# Automatically load every CSV file in the DATA_DIR into a dictionary.\n",
    "# The return result is a dict where they keys are the filename without the\n",
    "# extension, and the values are `DataFrame`s.\n",
    "def load_all_csv():\n",
    "    return {f.split(\".\")[0] : pd.read_csv(DATA_DIR + f) for f in os.listdir(DATA_DIR) if f.split(\".\")[1] == \"csv\"}\n",
    "\n",
    "# Load all the CSV datasets at once.\n",
    "datasets = load_all_csv()"
   ]
  },
  {
   "cell_type": "markdown",
   "metadata": {},
   "source": [
    "With the code above, all you need to do is drop the relevant CSV into `data/` and it will be loaded\n",
    "automatically. Dataset access can now be done using the dataset dictionary.\n",
    "\n",
    "For example, if I wanted to get the crash dataset:\n",
    "```python\n",
    "datasets[\"crash\"]\n",
    "```\n",
    "Or if you added `covid.csv` to `data/`:\n",
    "```python\n",
    "datasets[\"covid\"]\n",
    "```\n",
    "\n",
    "If we need formats other than CSV, we can either modify the function or just load the file(s) directly."
   ]
  },
  {
   "cell_type": "code",
   "execution_count": null,
   "metadata": {},
   "outputs": [],
   "source": []
  }
 ],
 "metadata": {
  "kernelspec": {
   "display_name": "Python 3",
   "language": "python",
   "name": "python3"
  },
  "language_info": {
   "codemirror_mode": {
    "name": "ipython",
    "version": 3
   },
   "file_extension": ".py",
   "mimetype": "text/x-python",
   "name": "python",
   "nbconvert_exporter": "python",
   "pygments_lexer": "ipython3",
   "version": "3.8.5"
  }
 },
 "nbformat": 4,
 "nbformat_minor": 4
}

